{
 "cells": [
  {
   "cell_type": "code",
   "execution_count": 18,
   "metadata": {},
   "outputs": [],
   "source": [
    "from tensorflow.keras.models import Sequential\n",
    "from tensorflow.keras.layers import Convolution2D, MaxPooling2D, Flatten, Dropout, Dense\n",
    "from tensorflow.keras.optimizers import Adam\n",
    "\n",
    "model = Sequential(layers=[\n",
    "    Convolution2D(32, (3, 7), activation='relu', input_shape=(40,100,1)),\n",
    "    Convolution2D(32, (3, 7), activation='relu'),\n",
    "    Convolution2D(32, (3, 7), activation='relu'),\n",
    "    Convolution2D(32, (3, 7), activation='relu'),\n",
    "    Dropout(0.2),\n",
    "    Convolution2D(32, (3, 7), activation='relu'),\n",
    "    Convolution2D(32, (3, 7), activation='relu'),\n",
    "    Convolution2D(32, (3, 7), activation='relu'),\n",
    "    Convolution2D(32, (3, 7), activation='relu'),\n",
    "    Dropout(0.2),\n",
    "    Convolution2D(32, (3, 7), activation='relu'),\n",
    "    Convolution2D(32, (3, 7), activation='relu'),\n",
    "    Convolution2D(32, (3, 7), activation='relu'),\n",
    "    Convolution2D(32, (3, 7), activation='relu'),\n",
    "    Dropout(0.2),\n",
    "    Flatten(),\n",
    "    Dense(64, activation='relu'),\n",
    "    Dense(64, activation='relu'),\n",
    "    Dropout(0.25),\n",
    "    Dense(2, activation='softmax')\n",
    "])\n",
    "\n",
    "detection_model = Sequential(layers=[\n",
    "    Convolution2D(32, (3, 7), activation='relu', input_shape=(None, None, 1)),\n",
    "    Convolution2D(32, (3, 7), activation='relu'),\n",
    "    Convolution2D(32, (3, 7), activation='relu'),\n",
    "    Convolution2D(32, (3, 7), activation='relu'),\n",
    "    Convolution2D(32, (3, 7), activation='relu'),\n",
    "    Convolution2D(32, (3, 7), activation='relu'),\n",
    "    Convolution2D(32, (3, 7), activation='relu'),\n",
    "    Convolution2D(32, (3, 7), activation='relu'),\n",
    "    Convolution2D(32, (3, 7), activation='relu'),\n",
    "    Convolution2D(32, (3, 7), activation='relu'),\n",
    "    Convolution2D(32, (3, 7), activation='relu'),\n",
    "    Convolution2D(32, (3, 7), activation='relu'),\n",
    "    Convolution2D(64, (16, 28), activation='relu'),\n",
    "    Convolution2D(64, (1, 1), activation='relu'),\n",
    "    Convolution2D(2, (1, 1), activation='softmax'),\n",
    "])"
   ]
  },
  {
   "cell_type": "code",
   "execution_count": 54,
   "metadata": {},
   "outputs": [],
   "source": [
    "weights = model.get_weights()\n",
    "\n",
    "required_shapes = []\n",
    "for layer in detection_model.layers:\n",
    "    required_shapes.extend(list(map(np.shape, layer.weights)))\n",
    "required_shapes = list(map(tuple, required_shapes))\n",
    "\n",
    "new_weights = list(map(\n",
    "    lambda w, shape: w.reshape(shape),\n",
    "    weights,\n",
    "    required_shapes\n",
    "))\n",
    "\n",
    "detection_model.set_weights(new_weights)"
   ]
  },
  {
   "cell_type": "code",
   "execution_count": 22,
   "metadata": {},
   "outputs": [
    {
     "name": "stdout",
     "output_type": "stream",
     "text": [
      "Model: \"sequential_7\"\n",
      "_________________________________________________________________\n",
      "Layer (type)                 Output Shape              Param #   \n",
      "=================================================================\n",
      "conv2d_96 (Conv2D)           (None, None, None, 32)    704       \n",
      "_________________________________________________________________\n",
      "conv2d_97 (Conv2D)           (None, None, None, 32)    21536     \n",
      "_________________________________________________________________\n",
      "conv2d_98 (Conv2D)           (None, None, None, 32)    21536     \n",
      "_________________________________________________________________\n",
      "conv2d_99 (Conv2D)           (None, None, None, 32)    21536     \n",
      "_________________________________________________________________\n",
      "conv2d_100 (Conv2D)          (None, None, None, 32)    21536     \n",
      "_________________________________________________________________\n",
      "conv2d_101 (Conv2D)          (None, None, None, 32)    21536     \n",
      "_________________________________________________________________\n",
      "conv2d_102 (Conv2D)          (None, None, None, 32)    21536     \n",
      "_________________________________________________________________\n",
      "conv2d_103 (Conv2D)          (None, None, None, 32)    21536     \n",
      "_________________________________________________________________\n",
      "conv2d_104 (Conv2D)          (None, None, None, 32)    21536     \n",
      "_________________________________________________________________\n",
      "conv2d_105 (Conv2D)          (None, None, None, 32)    21536     \n",
      "_________________________________________________________________\n",
      "conv2d_106 (Conv2D)          (None, None, None, 32)    21536     \n",
      "_________________________________________________________________\n",
      "conv2d_107 (Conv2D)          (None, None, None, 32)    21536     \n",
      "_________________________________________________________________\n",
      "conv2d_108 (Conv2D)          (None, None, None, 64)    917568    \n",
      "_________________________________________________________________\n",
      "conv2d_109 (Conv2D)          (None, None, None, 64)    4160      \n",
      "_________________________________________________________________\n",
      "conv2d_110 (Conv2D)          (None, None, None, 2)     130       \n",
      "=================================================================\n",
      "Total params: 1,159,458\n",
      "Trainable params: 1,159,458\n",
      "Non-trainable params: 0\n",
      "_________________________________________________________________\n"
     ]
    }
   ],
   "source": [
    "detection_model.summary()"
   ]
  },
  {
   "cell_type": "code",
   "execution_count": 34,
   "metadata": {},
   "outputs": [],
   "source": [
    "import numpy as np"
   ]
  },
  {
   "cell_type": "code",
   "execution_count": 36,
   "metadata": {},
   "outputs": [
    {
     "data": {
      "text/plain": [
       "[(0, 1, 2, 3, 4), (5, 6, 7, 8, 9)]"
      ]
     },
     "execution_count": 36,
     "metadata": {},
     "output_type": "execute_result"
    }
   ],
   "source": [
    "list(map(tuple, np.array(range(10)).reshape((2,5))))"
   ]
  },
  {
   "cell_type": "code",
   "execution_count": null,
   "metadata": {},
   "outputs": [],
   "source": []
  }
 ],
 "metadata": {
  "kernelspec": {
   "display_name": "Python 3",
   "language": "python",
   "name": "python3"
  },
  "language_info": {
   "codemirror_mode": {
    "name": "ipython",
    "version": 3
   },
   "file_extension": ".py",
   "mimetype": "text/x-python",
   "name": "python",
   "nbconvert_exporter": "python",
   "pygments_lexer": "ipython3",
   "version": "3.7.3"
  }
 },
 "nbformat": 4,
 "nbformat_minor": 2
}
