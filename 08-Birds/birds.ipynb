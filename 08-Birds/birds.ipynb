{
 "cells": [
  {
   "cell_type": "code",
   "execution_count": 5,
   "metadata": {},
   "outputs": [],
   "source": [
    "from keras.applications import VGG16\n",
    "\n",
    "image_size = 224\n",
    "\n",
    "vgg_conv = VGG16(weights='imagenet', include_top=False, input_shape=(image_size, image_size, 3))\n",
    "\n",
    "for layer in vgg_conv.layers[:-4]:\n",
    "    layer.trainable = False"
   ]
  },
  {
   "cell_type": "code",
   "execution_count": 13,
   "metadata": {
    "scrolled": false
   },
   "outputs": [
    {
     "name": "stdout",
     "output_type": "stream",
     "text": [
      "Model: \"sequential_5\"\n",
      "_________________________________________________________________\n",
      "Layer (type)                 Output Shape              Param #   \n",
      "=================================================================\n",
      "conv2d_2 (Conv2D)            (None, 221, 221, 1)       49        \n",
      "_________________________________________________________________\n",
      "max_pooling2d_1 (MaxPooling2 (None, 11, 11, 1)         0         \n",
      "_________________________________________________________________\n",
      "flatten_4 (Flatten)          (None, 121)               0         \n",
      "_________________________________________________________________\n",
      "dense_7 (Dense)              (None, 1)                 122       \n",
      "_________________________________________________________________\n",
      "dropout_4 (Dropout)          (None, 1)                 0         \n",
      "_________________________________________________________________\n",
      "dense_8 (Dense)              (None, 50)                100       \n",
      "=================================================================\n",
      "Total params: 271\n",
      "Trainable params: 271\n",
      "Non-trainable params: 0\n",
      "_________________________________________________________________\n"
     ]
    }
   ],
   "source": [
    "from keras import models\n",
    "from keras import layers\n",
    "from keras import optimizers\n",
    "\n",
    "model = models.Sequential()\n",
    "\n",
    "#model.add(vgg_conv)\n",
    "model.add(layers.Convolution2D(1, (4, 4), input_shape=(image_size, image_size, 3)))\n",
    "model.add(layers.MaxPooling2D(pool_size=(2,2), strides=(20,20)))\n",
    "model.add(layers.Flatten())\n",
    "model.add(layers.Dense(1))\n",
    "model.add(layers.Dropout(0.5))\n",
    "model.add(layers.Dense(50, activation='softmax'))\n",
    "\n",
    "model.summary()"
   ]
  },
  {
   "cell_type": "code",
   "execution_count": 14,
   "metadata": {},
   "outputs": [],
   "source": [
    "from keras.optimizers import Adam\n",
    "adam = Adam(lr=0.0003)\n",
    "model.compile(\n",
    "    loss='mean_squared_error',\n",
    "    metrics=['accuracy'],\n",
    "    optimizer=adam\n",
    ")"
   ]
  },
  {
   "cell_type": "code",
   "execution_count": 15,
   "metadata": {},
   "outputs": [],
   "source": [
    "model.save('birds.hdf5')"
   ]
  },
  {
   "cell_type": "code",
   "execution_count": 4,
   "metadata": {},
   "outputs": [],
   "source": [
    "data_dir = 'public_tests/00_test_img_input/train/images/'"
   ]
  },
  {
   "cell_type": "code",
   "execution_count": 5,
   "metadata": {},
   "outputs": [],
   "source": [
    "import pandas as pd\n",
    "\n",
    "df = pd.read_csv('public_tests/00_test_img_input/train/gt.csv').astype(str)\n",
    "valdf = df.sample(frac=0.2, random_state=42)\n",
    "traindf = pd.concat([df, valdf]).drop_duplicates(keep=False)"
   ]
  },
  {
   "cell_type": "code",
   "execution_count": 6,
   "metadata": {},
   "outputs": [
    {
     "name": "stdout",
     "output_type": "stream",
     "text": [
      "Found 2000 validated image filenames belonging to 50 classes.\n",
      "Found 500 validated image filenames belonging to 50 classes.\n"
     ]
    }
   ],
   "source": [
    "from keras.preprocessing.image import ImageDataGenerator\n",
    "\n",
    "datagen = ImageDataGenerator(\n",
    "    rescale=1./255,\n",
    "    rotation_range=20,\n",
    "    width_shift_range=0.2,\n",
    "    height_shift_range=0.2,\n",
    "    horizontal_flip=True,\n",
    "    fill_mode='reflect'\n",
    ")\n",
    "\n",
    "generator_params = dict(\n",
    "        directory=data_dir,\n",
    "        x_col=\"filename\",\n",
    "        y_col=\"class_id\",\n",
    "        target_size=(image_size, image_size),\n",
    "        batch_size=2,\n",
    "        class_mode='categorical'\n",
    ")\n",
    "\n",
    "train_generator = datagen.flow_from_dataframe(\n",
    "        dataframe=traindf,\n",
    "        **generator_params\n",
    ")\n",
    "\n",
    "val_generator = datagen.flow_from_dataframe(\n",
    "        dataframe=valdf,\n",
    "        **generator_params\n",
    ")"
   ]
  },
  {
   "cell_type": "code",
   "execution_count": 7,
   "metadata": {},
   "outputs": [
    {
     "name": "stdout",
     "output_type": "stream",
     "text": [
      "Epoch 1/1\n",
      "2/2 [==============================] - 8s 4s/step - loss: 0.0207 - accuracy: 0.0000e+00 - val_loss: 0.0199 - val_accuracy: 0.0000e+00\n"
     ]
    },
    {
     "data": {
      "text/plain": [
       "<keras.callbacks.callbacks.History at 0x7f018465bba8>"
      ]
     },
     "execution_count": 7,
     "metadata": {},
     "output_type": "execute_result"
    }
   ],
   "source": [
    "model.fit_generator(\n",
    "        train_generator,\n",
    "        steps_per_epoch=2,\n",
    "        epochs=1,\n",
    "        validation_data=val_generator,\n",
    "        validation_steps=1\n",
    ")"
   ]
  },
  {
   "cell_type": "code",
   "execution_count": 16,
   "metadata": {},
   "outputs": [
    {
     "name": "stdout",
     "output_type": "stream",
     "text": [
      "Found 8 validated image filenames belonging to 1 classes.\n"
     ]
    }
   ],
   "source": [
    "from os.path import join\n",
    "\n",
    "filenames = os.listdir('public_tests/00_test_img_input/test/123/')\n",
    "\n",
    "test_generator = ImageDataGenerator(\n",
    "    samplewise_center=True,\n",
    "    samplewise_std_normalization=True,\n",
    "    rescale=1./255\n",
    ").flow_from_dataframe(\n",
    "    dataframe=pd.DataFrame(\n",
    "        {'filename': filenames, 'class_id': '1'}\n",
    "    ),\n",
    "    directory=data_dir,\n",
    "    x_col=\"filename\",\n",
    "    y_col=\"class_id\",\n",
    "    target_size=(image_size, image_size),\n",
    "    batch_size=32\n",
    ")"
   ]
  },
  {
   "cell_type": "code",
   "execution_count": 17,
   "metadata": {
    "scrolled": true
   },
   "outputs": [],
   "source": [
    "prediction = model.predict_generator(test_generator)"
   ]
  },
  {
   "cell_type": "code",
   "execution_count": 21,
   "metadata": {},
   "outputs": [],
   "source": [
    "answers = prediction.argmax(axis=1)"
   ]
  },
  {
   "cell_type": "code",
   "execution_count": 22,
   "metadata": {},
   "outputs": [
    {
     "data": {
      "text/plain": [
       "{'0003.jpg': 45,\n",
       " '0001.jpg': 45,\n",
       " '0008.jpg': 31,\n",
       " '0007.jpg': 31,\n",
       " '0006.jpg': 45,\n",
       " '0000.jpg': 31,\n",
       " '0002.jpg': 31,\n",
       " '0009.jpg': 31}"
      ]
     },
     "execution_count": 22,
     "metadata": {},
     "output_type": "execute_result"
    }
   ],
   "source": []
  },
  {
   "cell_type": "code",
   "execution_count": null,
   "metadata": {},
   "outputs": [],
   "source": []
  }
 ],
 "metadata": {
  "kernelspec": {
   "display_name": "Python 3",
   "language": "python",
   "name": "python3"
  },
  "language_info": {
   "codemirror_mode": {
    "name": "ipython",
    "version": 3
   },
   "file_extension": ".py",
   "mimetype": "text/x-python",
   "name": "python",
   "nbconvert_exporter": "python",
   "pygments_lexer": "ipython3",
   "version": "3.7.3"
  }
 },
 "nbformat": 4,
 "nbformat_minor": 2
}
