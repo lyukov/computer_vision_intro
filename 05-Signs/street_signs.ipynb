{
 "cells": [
  {
   "cell_type": "code",
   "execution_count": 7,
   "metadata": {},
   "outputs": [],
   "source": [
    "from skimage.io import imread, imsave, imshow\n",
    "from skimage.filters import sobel_h, sobel_v\n",
    "from skimage.color import rgb2gray\n",
    "from skimage import feature\n",
    "import numpy as np\n",
    "%matplotlib inline"
   ]
  },
  {
   "cell_type": "code",
   "execution_count": 19,
   "metadata": {},
   "outputs": [],
   "source": [
    "img = rgb2gray(imread('public_tests/00_test_img_input/train/00000.png'))\n",
    "img1 = rgb2gray(imread('public_tests/00_test_img_input/train/00029.png'))"
   ]
  },
  {
   "cell_type": "code",
   "execution_count": 11,
   "metadata": {},
   "outputs": [
    {
     "data": {
      "text/plain": [
       "<matplotlib.image.AxesImage at 0x7fb88a731d68>"
      ]
     },
     "execution_count": 11,
     "metadata": {},
     "output_type": "execute_result"
    },
    {
     "data": {
      "image/png": "[encoded data removed]",
      "text/plain": [
       "<Figure size 432x288 with 1 Axes>"
      ]
     },
     "metadata": {
      "needs_background": "light"
     },
     "output_type": "display_data"
    }
   ],
   "source": [
    "imshow(img)"
   ]
  },
  {
   "cell_type": "code",
   "execution_count": 12,
   "metadata": {},
   "outputs": [
    {
     "ename": "ValueError",
     "evalue": "The parameter `image` must be a 2-dimensional array",
     "output_type": "error",
     "traceback": [
      "\u001b[0;31m---------------------------------------------------------------------------\u001b[0m",
      "\u001b[0;31mValueError\u001b[0m                                Traceback (most recent call last)",
      "\u001b[0;32m<ipython-input-12-0fa3cc8aa32a>\u001b[0m in \u001b[0;36m<module>\u001b[0;34m\u001b[0m\n\u001b[0;32m----> 1\u001b[0;31m \u001b[0mimshow\u001b[0m\u001b[0;34m(\u001b[0m\u001b[0msobel_v\u001b[0m\u001b[0;34m(\u001b[0m\u001b[0mimg\u001b[0m\u001b[0;34m)\u001b[0m\u001b[0;34m)\u001b[0m\u001b[0;34m\u001b[0m\u001b[0;34m\u001b[0m\u001b[0m\n\u001b[0m",
      "\u001b[0;32m~/anaconda3/lib/python3.7/site-packages/skimage/filters/edges.py\u001b[0m in \u001b[0;36msobel_v\u001b[0;34m(image, mask)\u001b[0m\n\u001b[1;32m    165\u001b[0m \u001b[0;34m\u001b[0m\u001b[0m\n\u001b[1;32m    166\u001b[0m     \"\"\"\n\u001b[0;32m--> 167\u001b[0;31m     \u001b[0massert_nD\u001b[0m\u001b[0;34m(\u001b[0m\u001b[0mimage\u001b[0m\u001b[0;34m,\u001b[0m \u001b[0;36m2\u001b[0m\u001b[0;34m)\u001b[0m\u001b[0;34m\u001b[0m\u001b[0;34m\u001b[0m\u001b[0m\n\u001b[0m\u001b[1;32m    168\u001b[0m     \u001b[0mimage\u001b[0m \u001b[0;34m=\u001b[0m \u001b[0mimg_as_float\u001b[0m\u001b[0;34m(\u001b[0m\u001b[0mimage\u001b[0m\u001b[0;34m)\u001b[0m\u001b[0;34m\u001b[0m\u001b[0;34m\u001b[0m\u001b[0m\n\u001b[1;32m    169\u001b[0m     \u001b[0mresult\u001b[0m \u001b[0;34m=\u001b[0m \u001b[0mconvolve\u001b[0m\u001b[0;34m(\u001b[0m\u001b[0mimage\u001b[0m\u001b[0;34m,\u001b[0m \u001b[0mVSOBEL_WEIGHTS\u001b[0m\u001b[0;34m)\u001b[0m\u001b[0;34m\u001b[0m\u001b[0;34m\u001b[0m\u001b[0m\n",
      "\u001b[0;32m~/anaconda3/lib/python3.7/site-packages/skimage/_shared/utils.py\u001b[0m in \u001b[0;36massert_nD\u001b[0;34m(array, ndim, arg_name)\u001b[0m\n\u001b[1;32m    174\u001b[0m         \u001b[0;32mraise\u001b[0m \u001b[0mValueError\u001b[0m\u001b[0;34m(\u001b[0m\u001b[0mmsg_empty_array\u001b[0m \u001b[0;34m%\u001b[0m \u001b[0;34m(\u001b[0m\u001b[0marg_name\u001b[0m\u001b[0;34m)\u001b[0m\u001b[0;34m)\u001b[0m\u001b[0;34m\u001b[0m\u001b[0;34m\u001b[0m\u001b[0m\n\u001b[1;32m    175\u001b[0m     \u001b[0;32mif\u001b[0m \u001b[0;32mnot\u001b[0m \u001b[0marray\u001b[0m\u001b[0;34m.\u001b[0m\u001b[0mndim\u001b[0m \u001b[0;32min\u001b[0m \u001b[0mndim\u001b[0m\u001b[0;34m:\u001b[0m\u001b[0;34m\u001b[0m\u001b[0;34m\u001b[0m\u001b[0m\n\u001b[0;32m--> 176\u001b[0;31m         \u001b[0;32mraise\u001b[0m \u001b[0mValueError\u001b[0m\u001b[0;34m(\u001b[0m\u001b[0mmsg_incorrect_dim\u001b[0m \u001b[0;34m%\u001b[0m \u001b[0;34m(\u001b[0m\u001b[0marg_name\u001b[0m\u001b[0;34m,\u001b[0m \u001b[0;34m'-or-'\u001b[0m\u001b[0;34m.\u001b[0m\u001b[0mjoin\u001b[0m\u001b[0;34m(\u001b[0m\u001b[0;34m[\u001b[0m\u001b[0mstr\u001b[0m\u001b[0;34m(\u001b[0m\u001b[0mn\u001b[0m\u001b[0;34m)\u001b[0m \u001b[0;32mfor\u001b[0m \u001b[0mn\u001b[0m \u001b[0;32min\u001b[0m \u001b[0mndim\u001b[0m\u001b[0;34m]\u001b[0m\u001b[0;34m)\u001b[0m\u001b[0;34m)\u001b[0m\u001b[0;34m)\u001b[0m\u001b[0;34m\u001b[0m\u001b[0;34m\u001b[0m\u001b[0m\n\u001b[0m\u001b[1;32m    177\u001b[0m \u001b[0;34m\u001b[0m\u001b[0m\n\u001b[1;32m    178\u001b[0m \u001b[0;34m\u001b[0m\u001b[0m\n",
      "\u001b[0;31mValueError\u001b[0m: The parameter `image` must be a 2-dimensional array"
     ]
    }
   ],
   "source": [
    "imshow(sobel_v(img))"
   ]
  },
  {
   "cell_type": "code",
   "execution_count": 17,
   "metadata": {},
   "outputs": [],
   "source": [
    "def grad_magn_orient(img):\n",
    "    dx = sobel_h(img)\n",
    "    dy = sobel_v(img)\n",
    "    return np.hypot(dx, dy), np.pi + np.arctan2(dx, dy)"
   ]
  },
  {
   "cell_type": "code",
   "execution_count": 28,
   "metadata": {},
   "outputs": [],
   "source": [
    "magn, orient = grad_magn_orient(img)"
   ]
  },
  {
   "cell_type": "code",
   "execution_count": 29,
   "metadata": {
    "scrolled": true
   },
   "outputs": [
    {
     "data": {
      "text/plain": [
       "<matplotlib.image.AxesImage at 0x7fc9bdf82128>"
      ]
     },
     "execution_count": 29,
     "metadata": {},
     "output_type": "execute_result"
    },
    {
     "data": {
      "image/png": "[encoded data removed]",
      "text/plain": [
       "<Figure size 432x288 with 2 Axes>"
      ]
     },
     "metadata": {
      "needs_background": "light"
     },
     "output_type": "display_data"
    }
   ],
   "source": [
    "imshow(orient)"
   ]
  },
  {
   "cell_type": "code",
   "execution_count": 21,
   "metadata": {},
   "outputs": [
    {
     "data": {
      "text/plain": [
       "(30, 29, 3)"
      ]
     },
     "execution_count": 21,
     "metadata": {},
     "output_type": "execute_result"
    }
   ],
   "source": [
    "img.shape"
   ]
  },
  {
   "cell_type": "code",
   "execution_count": 111,
   "metadata": {},
   "outputs": [],
   "source": [
    "bin_count = 8\n",
    "hist_bins = np.arange(-np.pi, np.pi, 2 * np.pi / bin_count)\n",
    "\n",
    "N_SEGMENTS = 8\n",
    "seg_h = (img.shape[0] + N_SEGMENTS - 1) // N_SEGMENTS\n",
    "seg_w = (img.shape[1] + N_SEGMENTS - 1) // N_SEGMENTS"
   ]
  },
  {
   "cell_type": "code",
   "execution_count": 132,
   "metadata": {},
   "outputs": [],
   "source": [
    "def hog(img):\n",
    "    bin_count = 8\n",
    "    N_SEGMENTS = 8\n",
    "    seg_h = (img.shape[0] + N_SEGMENTS - 1) // N_SEGMENTS\n",
    "    seg_w = (img.shape[1] + N_SEGMENTS - 1) // N_SEGMENTS\n",
    "    hist = np.zeros((N_SEGMENTS-1, N_SEGMENTS-1, bin_count))\n",
    "    magn, orient = grad_magn_orient(img)\n",
    "    for i in range(N_SEGMENTS-1):\n",
    "        for j in range(N_SEGMENTS-1):\n",
    "            orient_seg = orient[i*seg_h : (i+1)*seg_h, j*seg_w : (j+1)*seg_w]\n",
    "            magn_seg = magn[i*seg_h : (i+1)*seg_h, j*seg_w : (j+1)*seg_w]\n",
    "            hist[i, j] = np.histogram(orient_seg,\n",
    "                         bins=bin_count,\n",
    "                         range=(-np.pi, np.pi),\n",
    "                         weights=magn_seg)[0]\n",
    "            hist[i, j] / (np.linalg.norm(hist[i, j]) + 1e-6)\n",
    "    return hist.flatten()"
   ]
  },
  {
   "cell_type": "code",
   "execution_count": 122,
   "metadata": {},
   "outputs": [],
   "source": [
    "def sk_hog(img):\n",
    "    return feature.hog(img,\n",
    "        orientations=8,\n",
    "        pixels_per_cell=((img.shape[0] + N_SEGMENTS - 1) // N_SEGMENTS,\n",
    "                         (img.shape[1] + N_SEGMENTS - 1) // N_SEGMENTS),\n",
    "        cells_per_block=(1, 1)\n",
    "    )"
   ]
  },
  {
   "cell_type": "code",
   "execution_count": 134,
   "metadata": {
    "scrolled": true
   },
   "outputs": [
    {
     "data": {
      "text/plain": [
       "array([1.58412439e-01, 1.14633278e+01, 4.68438900e-01, 7.53090793e-02,\n",
       "       4.82163465e-02, 8.14405176e+00, 8.93930349e-01, 8.36697893e-02,\n",
       "       9.81221939e-02, 1.03718005e+01, 2.82106967e+00, 5.32772475e-02,\n",
       "       1.29164748e-01, 8.71511863e+00, 7.48391624e-01, 6.18949075e-02,\n",
       "       5.59358471e-02, 1.05139452e+01, 1.43423561e+00, 1.04206219e-01,\n",
       "       2.53508485e-01, 1.61892221e+01, 9.78683091e-01, 7.72628564e-02,\n",
       "       1.22979409e-01, 8.31414919e+00, 2.00597693e+00, 1.13011079e-01,\n",
       "       3.50144952e-01, 9.08087502e+00, 2.13965458e+00, 5.00495459e-02,\n",
       "       5.11855456e-01, 4.53588240e+00, 3.24989620e+00, 3.69180392e-01,\n",
       "       9.44843842e-02, 6.42956925e+00, 5.30673287e+00, 3.46643090e-01,\n",
       "       3.17274589e-01, 1.11092448e+01, 1.03660504e+00, 3.61694065e-02,\n",
       "       4.66097894e-02, 7.92592708e+00, 6.93092618e+00, 3.70074438e-01,\n",
       "       1.41244763e-01, 1.23214739e+01, 8.32655489e-01, 1.50039719e-01,\n",
       "       8.51468562e-02, 8.13656987e+00, 7.56369089e-01, 2.12171288e-01,\n",
       "       2.89027037e+00, 7.73616100e-01, 3.43286837e-01, 7.65869353e-01,\n",
       "       1.49491002e+00, 4.83033939e-01, 2.59829953e-01, 5.43917457e-01,\n",
       "       9.18716555e+00, 5.00325034e+00, 2.49566674e-01, 2.01052192e-01,\n",
       "       1.15193256e+01, 1.12501429e+01, 2.68848439e-02, 2.28285494e-01,\n",
       "       2.47241468e-01, 1.45121108e+01, 6.28599678e-02, 6.15316408e-02,\n",
       "       1.46037703e-01, 1.54563343e+01, 1.67916903e-01, 1.25832029e-01,\n",
       "       1.68719174e-01, 1.18581276e+00, 3.72016561e-01, 1.43577321e-01,\n",
       "       6.78088332e-01, 1.84430279e+01, 3.47666198e+00, 1.40875891e-01,\n",
       "       3.48411942e-01, 8.64688414e-01, 3.77981084e+00, 2.88273286e-01,\n",
       "       1.10700564e-01, 9.44927868e-01, 1.93378911e+01, 2.52278044e-01,\n",
       "       3.56359522e-02, 7.43708513e-02, 8.05531281e+00, 2.75963022e-01,\n",
       "       3.81068192e-02, 3.35168885e-02, 1.03089367e+01, 5.11139562e-01,\n",
       "       3.07737096e-01, 7.01660589e-02, 1.57302750e+00, 1.00588730e+00,\n",
       "       2.72463799e-01, 1.83035516e-01, 7.03947273e+00, 5.12898259e+00,\n",
       "       2.94189529e+00, 8.49895704e-01, 1.14232499e-01, 1.56354987e-01,\n",
       "       1.29620846e+01, 1.75226743e+00, 8.20018736e-02, 1.55564358e-01,\n",
       "       1.43491949e+01, 3.15766224e-01, 3.07159165e-02, 9.25549628e-02,\n",
       "       1.48232211e+01, 2.43777519e-01, 8.71436786e-02, 1.35568359e-01,\n",
       "       7.83418318e+00, 1.00436925e+01, 8.04662296e-02, 2.34565439e-01,\n",
       "       1.08627349e+01, 1.03836273e+01, 2.00037490e-01, 3.12213236e-01,\n",
       "       3.12343029e-01, 2.55551071e+00, 1.68754877e+01, 6.26903136e+00,\n",
       "       9.69315950e-01, 3.29983645e+00, 3.77267754e+00, 4.33421165e-01,\n",
       "       1.08422562e+01, 1.33389715e+01, 1.15954916e+00, 4.57901406e-01,\n",
       "       8.64834381e-01, 6.92586806e+00, 1.55748702e+00, 5.37505992e-01,\n",
       "       1.92796257e-02, 7.56984261e-01, 1.26370309e+01, 5.45645417e+00,\n",
       "       3.90699905e-02, 8.75211202e-01, 1.54789760e+01, 8.40212315e+00,\n",
       "       8.36601332e-02, 3.68606917e-02, 1.53679422e-01, 7.93365233e+00,\n",
       "       3.96126877e-02, 5.58542343e-02, 2.98175678e-01, 1.03152535e+01,\n",
       "       8.35392139e+00, 3.53985346e-01, 3.97580826e-01, 4.99205166e+00,\n",
       "       9.78977006e+00, 9.14387753e-01, 3.28518083e-01, 3.74088863e+00,\n",
       "       6.70395966e-01, 9.33233460e-02, 1.48503358e-01, 4.41191707e+00,\n",
       "       1.71405872e+01, 2.80302931e-01, 4.95130141e-02, 1.68709728e-01,\n",
       "       6.68214443e+00, 1.17712755e-01, 1.07528419e-01, 2.33837755e-01,\n",
       "       6.30239990e+00, 8.61633649e+00, 3.05822280e+00, 2.93924895e+00,\n",
       "       1.94607996e+01, 2.17330860e-01, 9.95674256e-02, 7.12478660e+00,\n",
       "       1.58808351e+01, 9.01620982e-01, 3.18263123e+00, 6.88911456e+00,\n",
       "       4.91982618e+00, 3.02060949e-02, 1.20482730e-01, 1.98541484e+01,\n",
       "       8.00498581e+00, 2.36698608e-01, 2.00395251e-01, 1.85556712e+01,\n",
       "       2.11064208e-01, 6.36496458e-02, 5.01983068e-02, 2.11555374e+01,\n",
       "       3.73677586e-01, 1.61221689e-01, 9.24940133e-01, 2.41056439e+01,\n",
       "       2.22988137e-01, 5.45154639e-02, 4.11433950e-02, 3.45938648e+00,\n",
       "       1.39940920e-01, 8.12976196e-02, 1.03967842e-01, 2.11078726e+01,\n",
       "       1.21501359e+00, 2.77619772e-01, 4.59557896e-01, 1.09953935e+01,\n",
       "       8.91035591e-01, 7.86956597e-01, 1.98575462e-01, 4.01567774e+00,\n",
       "       3.94639301e-02, 3.71098772e-02, 1.07751987e-01, 1.96380541e+01,\n",
       "       8.05532888e-02, 6.88996198e-02, 8.80937750e-02, 4.98781941e+00,\n",
       "       2.21263612e+01, 5.80560406e-01, 3.89148819e-01, 3.27835705e+00,\n",
       "       7.48516718e-01, 2.09564262e-01, 1.83145305e-01, 7.36512269e-01,\n",
       "       8.53833667e+00, 1.64528505e+01, 4.22374351e+00, 6.84603138e-01,\n",
       "       2.48623624e+01, 2.06464287e-01, 2.54050563e-01, 3.61908200e-01,\n",
       "       6.73658872e+00, 9.77662790e-01, 4.19358036e+00, 1.91696620e+01,\n",
       "       3.20169438e-01, 4.05363000e-01, 5.71796582e-01, 1.64247619e+01,\n",
       "       6.96870911e+00, 6.75293907e+00, 3.48320133e+00, 9.08836849e+00,\n",
       "       1.05468908e+01, 4.24362719e+00, 9.29444260e-01, 1.12282640e+01,\n",
       "       1.89023165e+01, 1.12292848e-01, 6.04946684e-02, 2.53951037e+00,\n",
       "       2.54528413e+00, 6.52166783e-02, 8.74666075e-02, 2.65567269e+00,\n",
       "       1.29976345e+00, 1.20086801e+00, 1.18782322e+00, 5.02051911e+00,\n",
       "       1.01055973e+00, 3.82088614e-01, 2.84417081e-01, 5.65843493e-01,\n",
       "       5.15741318e-02, 1.37934344e-01, 1.51782239e+00, 9.84923922e+00,\n",
       "       4.98199420e-02, 8.62993761e-02, 2.87382398e-01, 9.58272010e+00,\n",
       "       1.24005259e+00, 1.39230075e-01, 1.31628330e+01, 1.05614128e+01,\n",
       "       2.31094891e-02, 6.26214856e+00, 3.30752995e+00, 4.98738280e+00,\n",
       "       1.08498658e-01, 7.84520710e-01, 4.42936480e+00, 6.20737326e-01,\n",
       "       8.06265303e-01, 2.51136200e+01, 4.72043344e-01, 1.28775788e-01,\n",
       "       4.23686729e+00, 3.61570042e+00, 9.46579659e-01, 1.47158741e+00,\n",
       "       2.07175212e+00, 1.57920545e+01, 5.47337519e+00, 2.39728725e+00,\n",
       "       1.05617272e+01, 5.97799521e+00, 6.23760692e-01, 1.29537965e-01,\n",
       "       6.94031888e-01, 1.09934850e+01, 4.10995530e+00, 1.48737755e+00,\n",
       "       1.52088739e+01, 1.24065147e-01, 6.20071727e-02, 2.90862511e-02,\n",
       "       1.16213841e+01, 1.39234733e-01, 9.12761506e-02, 6.30361880e-01,\n",
       "       8.02611400e-01, 9.05726475e-01, 6.14894385e-01, 3.15925240e-01,\n",
       "       7.40754458e-01, 2.45388112e+00, 1.66331015e+00, 8.17854244e-01,\n",
       "       1.10001955e+00, 5.12267179e-01, 3.83217367e+00, 5.84321934e+00,\n",
       "       1.72426126e+00, 1.34000842e+00, 1.71268749e+00, 1.53014894e+00,\n",
       "       6.79509801e-02, 3.34713376e-01, 1.08385391e+01, 2.91400925e-01,\n",
       "       2.26130355e-02, 1.40720377e-01, 9.11332967e+00, 3.85928034e-01,\n",
       "       2.08982605e-01, 3.95789265e-01, 1.75867996e+01, 2.22563271e-01,\n",
       "       2.76858498e-01, 1.65901738e+00, 6.96012365e+00, 1.53411055e-01,\n",
       "       5.41570612e-01, 1.03927733e+01, 8.31591860e+00, 4.07867237e+00,\n",
       "       1.59428157e-01, 4.54313781e+00, 1.54782022e+00, 2.06078934e-01,\n",
       "       4.05249682e+00, 2.25419355e+01, 1.21644271e+00, 5.86664773e-01,\n",
       "       6.26908318e-01, 1.67375800e+01, 4.36453205e-01, 3.22941473e+00,\n",
       "       9.64698582e+00, 1.40134658e+01, 1.84517493e-01, 9.40336332e-02,\n",
       "       4.98023533e+00, 8.81444454e+00, 1.81972474e-01, 9.19493861e-02])"
      ]
     },
     "execution_count": 134,
     "metadata": {},
     "output_type": "execute_result"
    }
   ],
   "source": [
    "hog(img1)"
   ]
  },
  {
   "cell_type": "code",
   "execution_count": 135,
   "metadata": {},
   "outputs": [],
   "source": [
    "def extract_hog(img):\n",
    "    rhog = hog(img[..., 0])\n",
    "    ghog = hog(img[..., 1])\n",
    "    bhog = hog(img[..., 2])\n",
    "    return np.concatenate((rhog, ghog, bhog))"
   ]
  },
  {
   "cell_type": "code",
   "execution_count": 143,
   "metadata": {},
   "outputs": [
    {
     "data": {
      "text/plain": [
       "array([0.        , 0.        , 0.        , ..., 0.29046092, 0.        ,\n",
       "       0.        ])"
      ]
     },
     "execution_count": 143,
     "metadata": {},
     "output_type": "execute_result"
    }
   ],
   "source": [
    "extract_hog(img)"
   ]
  },
  {
   "cell_type": "code",
   "execution_count": 1,
   "metadata": {},
   "outputs": [],
   "source": [
    "from notify import notify"
   ]
  },
  {
   "cell_type": "code",
   "execution_count": 2,
   "metadata": {},
   "outputs": [],
   "source": [
    "notify('1')"
   ]
  },
  {
   "cell_type": "code",
   "execution_count": 3,
   "metadata": {},
   "outputs": [
    {
     "data": {
      "text/plain": [
       "0"
      ]
     },
     "execution_count": 3,
     "metadata": {},
     "output_type": "execute_result"
    }
   ],
   "source": [
    "import os\n",
    "os.system('systemctl suspend')"
   ]
  },
  {
   "cell_type": "code",
   "execution_count": 23,
   "metadata": {},
   "outputs": [],
   "source": [
    "def hog1(img):\n",
    "    bin_count = 8\n",
    "    N_SEGMENTS = 8\n",
    "    seg_h = (img.shape[0] + N_SEGMENTS - 1) // N_SEGMENTS\n",
    "    seg_w = (img.shape[1] + N_SEGMENTS - 1) // N_SEGMENTS\n",
    "    hist = np.zeros((N_SEGMENTS-2, N_SEGMENTS-2, bin_count))\n",
    "    magn, orient = grad_magn_orient(img)\n",
    "    for i in range(1, N_SEGMENTS-1):\n",
    "        for j in range(1, N_SEGMENTS-1):\n",
    "            orient_seg = orient[i*seg_h : (i+1)*seg_h, j*seg_w : (j+1)*seg_w]\n",
    "            magn_seg = magn[i*seg_h : (i+1)*seg_h, j*seg_w : (j+1)*seg_w]\n",
    "            hist[i-1, j-1] = np.histogram(\n",
    "                orient_seg,\n",
    "                bins=bin_count,\n",
    "                range=(-np.pi, np.pi),\n",
    "                weights=magn_seg\n",
    "            )[0]\n",
    "            hist[i-1, j-1] /= (np.linalg.norm(hist[i-1, j-1]) + 1e-6)\n",
    "    return hist.flatten()"
   ]
  },
  {
   "cell_type": "code",
   "execution_count": 24,
   "metadata": {},
   "outputs": [],
   "source": [
    "def hog2(img):\n",
    "    bin_count = 8\n",
    "    N_SEGMENTS = 8\n",
    "    seg_h = (img.shape[0] + N_SEGMENTS - 1) // N_SEGMENTS\n",
    "    seg_w = (img.shape[1] + N_SEGMENTS - 1) // N_SEGMENTS\n",
    "    hist = np.zeros((N_SEGMENTS-2, N_SEGMENTS-2, bin_count))\n",
    "    magn, orient = grad_magn_orient(img)\n",
    "    for i in range(1, N_SEGMENTS-1):\n",
    "        for j in range(1, N_SEGMENTS-1):\n",
    "            orient_seg = orient[i*seg_h : (i+1)*seg_h, j*seg_w : (j+1)*seg_w]\n",
    "            magn_seg = magn[i*seg_h : (i+1)*seg_h, j*seg_w : (j+1)*seg_w]\n",
    "            hist[i-1, j-1] = np.histogram(\n",
    "                orient_seg,\n",
    "                bins=bin_count,\n",
    "                range=(-np.pi, np.pi),\n",
    "                weights=magn_seg\n",
    "            )[0]\n",
    "    hist = hist.transpose((2,0,1))\n",
    "    hist /= np.sqrt((hist ** 2).sum(axis=0)) + 1e-6\n",
    "    return hist.flatten()"
   ]
  },
  {
   "cell_type": "code",
   "execution_count": 26,
   "metadata": {},
   "outputs": [
    {
     "name": "stdout",
     "output_type": "stream",
     "text": [
      "CPU times: user 37.6 s, sys: 0 ns, total: 37.6 s\n",
      "Wall time: 37.5 s\n"
     ]
    }
   ],
   "source": [
    "%%time\n",
    "for i in range(1000):\n",
    "    hog1(img1)"
   ]
  },
  {
   "cell_type": "code",
   "execution_count": 27,
   "metadata": {},
   "outputs": [
    {
     "name": "stdout",
     "output_type": "stream",
     "text": [
      "CPU times: user 34.4 s, sys: 0 ns, total: 34.4 s\n",
      "Wall time: 34.4 s\n"
     ]
    }
   ],
   "source": [
    "%%time\n",
    "for i in range(1000):\n",
    "    hog2(img1)"
   ]
  },
  {
   "cell_type": "code",
   "execution_count": null,
   "metadata": {},
   "outputs": [],
   "source": []
  }
 ],
 "metadata": {
  "kernelspec": {
   "display_name": "Python 3",
   "language": "python",
   "name": "python3"
  },
  "language_info": {
   "codemirror_mode": {
    "name": "ipython",
    "version": 3
   },
   "file_extension": ".py",
   "mimetype": "text/x-python",
   "name": "python",
   "nbconvert_exporter": "python",
   "pygments_lexer": "ipython3",
   "version": "3.7.3"
  }
 },
 "nbformat": 4,
 "nbformat_minor": 4
}
