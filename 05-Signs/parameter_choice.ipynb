{
 "cells": [
  {
   "cell_type": "code",
   "execution_count": 1,
   "metadata": {},
   "outputs": [],
   "source": [
    "from os.path import join\n",
    "from fit_and_classify import fit_and_classify, extract_hog\n",
    "from glob import glob\n",
    "from numpy import zeros\n",
    "from os.path import basename, join\n",
    "from skimage.io import imread\n",
    "from tqdm import tqdm\n",
    "from sklearn.model_selection import cross_validate, GroupKFold, GridSearchCV\n",
    "from sklearn import svm\n",
    "from notify import notify\n",
    "\n",
    "def read_gt(gt_dir):\n",
    "    fgt = open(join(gt_dir, 'gt.csv'))\n",
    "    next(fgt)\n",
    "    lines = fgt.readlines()\n",
    "\n",
    "    filenames = []\n",
    "    labels = zeros(len(lines))\n",
    "    groups = zeros(len(lines))\n",
    "    for i, line in enumerate(lines):\n",
    "        filename, label, group = line.rstrip('\\n').split(',')\n",
    "        filenames.append(filename)\n",
    "        labels[i] = int(label)\n",
    "        groups[i] = int(group)\n",
    "\n",
    "    return filenames, labels, groups\n",
    "\n",
    "def extract_features(path, filenames):\n",
    "    hog_length = len(extract_hog(imread(join(path, filenames[0]))))\n",
    "    data = zeros((len(filenames), hog_length))\n",
    "    for i in tqdm(range(0, len(filenames))):\n",
    "        filename = join(path, filenames[i])\n",
    "        data[i, :] = extract_hog(imread(filename))\n",
    "    return data\n",
    "\n",
    "def cross_validate_clf(clf, n_splits=3):\n",
    "    group_kfold = GroupKFold(n_splits=n_splits)\n",
    "    result = cross_validate(\n",
    "        estimator=clf,\n",
    "        X=features,\n",
    "        y=labels,\n",
    "        groups=groups,\n",
    "        cv=group_kfold,\n",
    "        scoring='accuracy',\n",
    "        return_train_score=True,\n",
    "        n_jobs=3\n",
    "    )\n",
    "    return {\n",
    "        'train_score': result['train_score'],\n",
    "        'test_score': result['test_score']\n",
    "    }"
   ]
  },
  {
   "cell_type": "code",
   "execution_count": 15,
   "metadata": {},
   "outputs": [],
   "source": [
    "from skimage.io import imread, imsave, imshow\n",
    "from skimage.filters import sobel_h, sobel_v\n",
    "from skimage.color import rgb2gray\n",
    "from skimage.transform import resize\n",
    "from sklearn import svm\n",
    "import numpy as np\n",
    "\n",
    "def grad_magn_orient(img):\n",
    "    dx = sobel_h(img)\n",
    "    dy = sobel_v(img)\n",
    "    return np.hypot(dx, dy), np.pi + np.arctan2(dx, dy)\n",
    "\n",
    "def hog(img):\n",
    "    bin_count = 8\n",
    "    N_SEGMENTS = 14\n",
    "    seg_h = (img.shape[0] + N_SEGMENTS - 1) // N_SEGMENTS\n",
    "    seg_w = (img.shape[1] + N_SEGMENTS - 1) // N_SEGMENTS\n",
    "    indent = 3\n",
    "    hist = np.zeros((N_SEGMENTS-2*indent, N_SEGMENTS-2*indent, bin_count))\n",
    "    magn, orient = grad_magn_orient(img)\n",
    "    for i in range(indent, N_SEGMENTS - indent):\n",
    "        for j in range(indent, N_SEGMENTS - indent):\n",
    "            orient_seg = orient[i*seg_h : (i+1)*seg_h, j*seg_w : (j+1)*seg_w]\n",
    "            magn_seg = magn[i*seg_h : (i+1)*seg_h, j*seg_w : (j+1)*seg_w]\n",
    "            result = np.histogram(\n",
    "                orient_seg,\n",
    "                bins=bin_count,\n",
    "                range=(-np.pi, np.pi),\n",
    "                weights=magn_seg\n",
    "            )[0]\n",
    "            result /= (np.linalg.norm(result) + 1e-6)\n",
    "            hist[i - indent, j - indent] = result\n",
    "    return hist.flatten()\n",
    "\n",
    "def extract_hog(img):\n",
    "    image_resized = resize(img, (140, 140), anti_aliasing=True)\n",
    "    return hog(rgb2gray(image_resized))"
   ]
  },
  {
   "cell_type": "code",
   "execution_count": 16,
   "metadata": {},
   "outputs": [],
   "source": [
    "train_dir = 'public_tests/00_test_img_input/train/'\n",
    "filenames, labels, groups = read_gt(train_dir)"
   ]
  },
  {
   "cell_type": "code",
   "execution_count": 17,
   "metadata": {},
   "outputs": [
    {
     "name": "stderr",
     "output_type": "stream",
     "text": [
      "100%|██████████| 39209/39209 [11:51<00:00, 55.09it/s]\n"
     ]
    },
    {
     "data": {
      "text/plain": [
       "(39209, 512)"
      ]
     },
     "execution_count": 17,
     "metadata": {},
     "output_type": "execute_result"
    }
   ],
   "source": [
    "features = extract_features(train_dir, filenames)\n",
    "features.shape"
   ]
  },
  {
   "cell_type": "code",
   "execution_count": 18,
   "metadata": {
    "scrolled": false
   },
   "outputs": [
    {
     "name": "stdout",
     "output_type": "stream",
     "text": [
      "14x14, indent=3, rbf, C=16, {'train_score': array([1., 1., 1.]), 'test_score': array([0.92729358, 0.9379922 , 0.93655172])}\n",
      "CPU times: user 384 ms, sys: 197 ms, total: 581 ms\n",
      "Wall time: 12min 3s\n"
     ]
    }
   ],
   "source": [
    "%%time\n",
    "clf = svm.SVC(gamma=\"scale\", kernel='rbf', C=16)\n",
    "result = cross_validate_clf(clf)\n",
    "notify(f'14x14, indent=3, rbf, C=16, {result}')"
   ]
  },
  {
   "cell_type": "code",
   "execution_count": 12,
   "metadata": {},
   "outputs": [
    {
     "name": "stdout",
     "output_type": "stream",
     "text": [
      "CPU times: user 71.7 ms, sys: 144 ms, total: 216 ms\n",
      "Wall time: 2min 53s\n"
     ]
    },
    {
     "data": {
      "text/plain": [
       "{'fit_time': array([169.94207025, 171.51208878, 171.65262055]),\n",
       " 'score_time': array([0.08732867, 0.0675683 , 0.04119205]),\n",
       " 'test_score': array([0.75749235, 0.76886612, 0.75862069]),\n",
       " 'train_score': array([0.91009989, 0.90899349, 0.91047058])}"
      ]
     },
     "execution_count": 12,
     "metadata": {},
     "output_type": "execute_result"
    }
   ],
   "source": [
    "%%time\n",
    "clf = svm.LinearSVC(dual=False)\n",
    "cross_validate_clf(clf)"
   ]
  },
  {
   "cell_type": "code",
   "execution_count": 13,
   "metadata": {},
   "outputs": [
    {
     "name": "stdout",
     "output_type": "stream",
     "text": [
      "CPU times: user 46.4 ms, sys: 52.1 ms, total: 98.5 ms\n",
      "Wall time: 2min 58s\n"
     ]
    },
    {
     "data": {
      "text/plain": [
       "{'fit_time': array([168.45046496, 178.55216527, 176.55208707]),\n",
       " 'score_time': array([0.07305455, 0.03891444, 0.04365897]),\n",
       " 'test_score': array([0.75603976, 0.76741341, 0.7594636 ]),\n",
       " 'train_score': array([0.90983199, 0.91017987, 0.91112046])}"
      ]
     },
     "execution_count": 13,
     "metadata": {},
     "output_type": "execute_result"
    }
   ],
   "source": [
    "%%time\n",
    "clf = svm.LinearSVC(dual=True)\n",
    "cross_validate_clf(clf)"
   ]
  },
  {
   "cell_type": "code",
   "execution_count": 21,
   "metadata": {},
   "outputs": [
    {
     "name": "stdout",
     "output_type": "stream",
     "text": [
      "I have finished. Best params is {'C': 1, 'kernel': 'rbf'}. Best score is 0.8178734474227856. CV results is {'mean_fit_time': array([  67.79227742,  212.91076612,  246.69034362,   75.66905355,\n",
      "       1944.91685462,  171.68165127,   75.26056973,  152.15376774,\n",
      "        154.02126463]), 'std_fit_time': array([1.91259267e+00, 8.25753689e+00, 6.38447837e+00, 1.94837566e+00,\n",
      "       2.49480853e+03, 4.89821411e+00, 2.51969454e+00, 9.73268255e+00,\n",
      "       2.22478805e+00]), 'mean_score_time': array([  96.3252008 ,  177.04769063,  188.5040772 ,  102.77892057,\n",
      "       3669.81173539,  169.50102687,   97.67173735,  163.05978672,\n",
      "        162.33038036]), 'std_score_time': array([1.78599121e+00, 6.33499482e+00, 6.19682129e+00, 3.28895923e+00,\n",
      "       2.49489388e+03, 7.94303161e+00, 7.38631362e+00, 4.07875636e+00,\n",
      "       1.15574685e+01]), 'param_C': masked_array(data=[0.25, 0.25, 0.25, 0.5, 0.5, 0.5, 1, 1, 1],\n",
      "             mask=[False, False, False, False, False, False, False, False,\n",
      "                   False],\n",
      "       fill_value='?',\n",
      "            dtype=object), 'param_kernel': masked_array(data=['linear', 'rbf', 'sigmoid', 'linear', 'rbf', 'sigmoid',\n",
      "                   'linear', 'rbf', 'sigmoid'],\n",
      "             mask=[False, False, False, False, False, False, False, False,\n",
      "                   False],\n",
      "       fill_value='?',\n",
      "            dtype=object), 'params': [{'C': 0.25, 'kernel': 'linear'}, {'C': 0.25, 'kernel': 'rbf'}, {'C': 0.25, 'kernel': 'sigmoid'}, {'C': 0.5, 'kernel': 'linear'}, {'C': 0.5, 'kernel': 'rbf'}, {'C': 0.5, 'kernel': 'sigmoid'}, {'C': 1, 'kernel': 'linear'}, {'C': 1, 'kernel': 'rbf'}, {'C': 1, 'kernel': 'sigmoid'}], 'split0_test_score': array([0.78409786, 0.77178899, 0.71192661, 0.78188073, 0.7983945 ,\n",
      "       0.72836391, 0.77775229, 0.81383792, 0.72148318]), 'split1_test_score': array([0.79883783, 0.77735301, 0.70899916, 0.79639116, 0.80992431,\n",
      "       0.72757856, 0.78996865, 0.82659225, 0.72711981]), 'split2_test_score': array([0.78911877, 0.7640613 , 0.69318008, 0.7840613 , 0.79287356,\n",
      "       0.71578544, 0.77885057, 0.81318008, 0.71226054]), 'mean_test_score': array([0.79068581, 0.77107297, 0.70471065, 0.78744676, 0.80040297,\n",
      "       0.72391543, 0.78219286, 0.81787345, 0.72029381]), 'std_test_score': array([0.00612074, 0.00544884, 0.00823144, 0.00639032, 0.00710315,\n",
      "       0.00575123, 0.00551949, 0.00617427, 0.00612317]), 'rank_test_score': array([3, 6, 9, 4, 2, 7, 5, 1, 8], dtype=int32)}\n",
      "CPU times: user 3min 7s, sys: 435 ms, total: 3min 8s\n",
      "Wall time: 2h 15min 33s\n"
     ]
    }
   ],
   "source": [
    "%%time\n",
    "parameters = {'kernel':('linear', 'rbf', 'sigmoid'), 'C':[0.25, 0.5, 1]}\n",
    "svc = svm.SVC(gamma=\"scale\")\n",
    "group_kfold = GroupKFold(n_splits=3)\n",
    "clf = GridSearchCV(\n",
    "    svc,\n",
    "    parameters,\n",
    "    cv=group_kfold,\n",
    "    n_jobs=3\n",
    ")\n",
    "clf.fit(\n",
    "    X=features,\n",
    "    y=labels,\n",
    "    groups=groups\n",
    ")\n",
    "notify(f'I have finished. Best params is {clf.best_params_}. Best score is {clf.best_score_}. CV results is {clf.cv_results_}')"
   ]
  },
  {
   "cell_type": "code",
   "execution_count": 22,
   "metadata": {},
   "outputs": [
    {
     "name": "stdout",
     "output_type": "stream",
     "text": [
      "CPU times: user 7min 22s, sys: 387 ms, total: 7min 22s\n",
      "Wall time: 1h 11min 6s\n"
     ]
    },
    {
     "data": {
      "text/plain": [
       "GridSearchCV(cv=GroupKFold(n_splits=3), error_score='raise-deprecating',\n",
       "             estimator=SVC(C=1.0, cache_size=200, class_weight=None, coef0=0.0,\n",
       "                           decision_function_shape='ovr', degree=3,\n",
       "                           gamma='scale', kernel='rbf', max_iter=-1,\n",
       "                           probability=False, random_state=None, shrinking=True,\n",
       "                           tol=0.001, verbose=False),\n",
       "             iid='warn', n_jobs=3, param_grid={'C': [0.1, 0.3, 0.5, 1, 2]},\n",
       "             pre_dispatch='2*n_jobs', refit=True, return_train_score=False,\n",
       "             scoring=None, verbose=0)"
      ]
     },
     "execution_count": 22,
     "metadata": {},
     "output_type": "execute_result"
    }
   ],
   "source": [
    "%%time\n",
    "parameters = {'C':[0.1, 0.3, 0.5, 1, 2]}\n",
    "svc = svm.SVC(gamma=\"scale\")\n",
    "group_kfold = GroupKFold(n_splits=3)\n",
    "clf = GridSearchCV(\n",
    "    svc,\n",
    "    parameters,\n",
    "    cv=group_kfold,\n",
    "    n_jobs=3\n",
    ")\n",
    "clf.fit(\n",
    "    X=features,\n",
    "    y=labels,\n",
    "    groups=groups\n",
    ")\n",
    "notify(f'I have finished. Best params is {clf.best_params_}')"
   ]
  },
  {
   "cell_type": "code",
   "execution_count": 31,
   "metadata": {},
   "outputs": [
    {
     "data": {
      "text/plain": [
       "{'C': 2}"
      ]
     },
     "execution_count": 31,
     "metadata": {},
     "output_type": "execute_result"
    }
   ],
   "source": [
    "clf.best_params_"
   ]
  },
  {
   "cell_type": "code",
   "execution_count": 5,
   "metadata": {},
   "outputs": [
    {
     "name": "stderr",
     "output_type": "stream",
     "text": [
      "/home/dmitry/anaconda3/lib/python3.7/site-packages/sklearn/svm/base.py:929: ConvergenceWarning: Liblinear failed to converge, increase the number of iterations.\n",
      "  \"the number of iterations.\", ConvergenceWarning)\n"
     ]
    },
    {
     "name": "stdout",
     "output_type": "stream",
     "text": [
      "I have finished. Best params is {'C': 0.1}\n",
      "CPU times: user 2min 12s, sys: 251 ms, total: 2min 13s\n",
      "Wall time: 22min 36s\n"
     ]
    }
   ],
   "source": [
    "%%time\n",
    "parameters = {'C':[0.1, 0.3, 0.5, 1, 2, 4, 8]}\n",
    "svc = svm.LinearSVC()\n",
    "group_kfold = GroupKFold(n_splits=3)\n",
    "clf = GridSearchCV(\n",
    "    svc,\n",
    "    parameters,\n",
    "    cv=group_kfold,\n",
    "    n_jobs=3\n",
    ")\n",
    "clf.fit(\n",
    "    X=features,\n",
    "    y=labels,\n",
    "    groups=groups\n",
    ")\n",
    "notify(f'I have finished. Best params is {clf.best_params_}')"
   ]
  },
  {
   "cell_type": "code",
   "execution_count": 7,
   "metadata": {},
   "outputs": [
    {
     "data": {
      "text/plain": [
       "0.7719401157897422"
      ]
     },
     "execution_count": 7,
     "metadata": {},
     "output_type": "execute_result"
    }
   ],
   "source": [
    "clf.best_score_"
   ]
  },
  {
   "cell_type": "code",
   "execution_count": 8,
   "metadata": {
    "scrolled": true
   },
   "outputs": [
    {
     "data": {
      "text/plain": [
       "{'mean_fit_time': array([112.49994715, 130.68060025, 189.55095522, 175.23486733,\n",
       "        183.21680911, 201.01593757, 216.3277417 ]),\n",
       " 'std_fit_time': array([ 3.96266838,  2.74050432,  3.72693469,  2.60450198,  1.20119837,\n",
       "        12.05550314, 13.66163109]),\n",
       " 'mean_score_time': array([0.0774289 , 0.06504027, 0.06626654, 0.05795519, 0.05435793,\n",
       "        0.06494141, 0.04405673]),\n",
       " 'std_score_time': array([0.00520845, 0.00031973, 0.0099168 , 0.00815267, 0.00969629,\n",
       "        0.00031717, 0.01138722]),\n",
       " 'param_C': masked_array(data=[0.1, 0.3, 0.5, 1, 2, 4, 8],\n",
       "              mask=[False, False, False, False, False, False, False],\n",
       "        fill_value='?',\n",
       "             dtype=object),\n",
       " 'params': [{'C': 0.1},\n",
       "  {'C': 0.3},\n",
       "  {'C': 0.5},\n",
       "  {'C': 1},\n",
       "  {'C': 2},\n",
       "  {'C': 4},\n",
       "  {'C': 8}],\n",
       " 'split0_test_score': array([0.76659021, 0.76414373, 0.76192661, 0.75535168, 0.75022936,\n",
       "        0.73998471, 0.72782875]),\n",
       " 'split1_test_score': array([0.78109947, 0.77704717, 0.77353009, 0.7677957 , 0.76213778,\n",
       "        0.75158651, 0.74692255]),\n",
       " 'split2_test_score': array([0.76812261, 0.76605364, 0.76298851, 0.7594636 , 0.75241379,\n",
       "        0.74436782, 0.73517241]),\n",
       " 'mean_test_score': array([0.77194012, 0.76908363, 0.76615063, 0.76087123, 0.75492872,\n",
       "        0.74531358, 0.7366421 ]),\n",
       " 'std_test_score': array([0.00651023, 0.00568777, 0.00523882, 0.0051785 , 0.00517766,\n",
       "        0.00478505, 0.00786673]),\n",
       " 'rank_test_score': array([1, 2, 3, 4, 5, 6, 7], dtype=int32)}"
      ]
     },
     "execution_count": 8,
     "metadata": {},
     "output_type": "execute_result"
    }
   ],
   "source": [
    "clf.cv_results_"
   ]
  },
  {
   "cell_type": "code",
   "execution_count": 6,
   "metadata": {},
   "outputs": [
    {
     "name": "stdout",
     "output_type": "stream",
     "text": [
      "I have finished. Best params is {'C': 0.1}. Best score is 0.7609222372414497.\n",
      "CPU times: user 18.1 s, sys: 172 ms, total: 18.3 s\n",
      "Wall time: 2min 43s\n"
     ]
    }
   ],
   "source": [
    "%%time\n",
    "parameters = {'C':[0.05, 0.1, 0.3, 1.0]}\n",
    "svc = svm.LinearSVC()\n",
    "group_kfold = GroupKFold(n_splits=3)\n",
    "clf = GridSearchCV(\n",
    "    svc,\n",
    "    parameters,\n",
    "    cv=group_kfold,\n",
    "    n_jobs=3\n",
    ")\n",
    "clf.fit(\n",
    "    X=features,\n",
    "    y=labels,\n",
    "    groups=groups\n",
    ")\n",
    "notify(f'I have finished. Best params is {clf.best_params_}. Best score is {clf.best_score_}.')"
   ]
  },
  {
   "cell_type": "code",
   "execution_count": 8,
   "metadata": {},
   "outputs": [
    {
     "data": {
      "text/plain": [
       "{'mean_fit_time': array([11.7760156 , 16.40993396, 32.53084254, 75.76127736]),\n",
       " 'std_fit_time': array([0.87303238, 0.94474288, 1.66640147, 2.00775077]),\n",
       " 'mean_score_time': array([0.08418282, 0.04998048, 0.05277809, 0.03559152]),\n",
       " 'std_score_time': array([0.01608375, 0.00893657, 0.01062165, 0.00231066]),\n",
       " 'param_C': masked_array(data=[0.05, 0.1, 0.3, 1.0],\n",
       "              mask=[False, False, False, False],\n",
       "        fill_value='?',\n",
       "             dtype=object),\n",
       " 'params': [{'C': 0.05}, {'C': 0.1}, {'C': 0.3}, {'C': 1.0}],\n",
       " 'split0_test_score': array([0.75542813, 0.75359327, 0.75405199, 0.75053517]),\n",
       " 'split1_test_score': array([0.76733695, 0.76924841, 0.76840737, 0.76443153]),\n",
       " 'split2_test_score': array([0.75969349, 0.75992337, 0.75931034, 0.75609195]),\n",
       " 'mean_test_score': array([0.76082022, 0.76092224, 0.76059068, 0.75702007]),\n",
       " 'std_test_score': array([0.00492826, 0.0064324 , 0.0059321 , 0.00571303]),\n",
       " 'rank_test_score': array([2, 1, 3, 4], dtype=int32)}"
      ]
     },
     "execution_count": 8,
     "metadata": {},
     "output_type": "execute_result"
    }
   ],
   "source": [
    "clf.cv_results_"
   ]
  },
  {
   "cell_type": "code",
   "execution_count": 30,
   "metadata": {},
   "outputs": [
    {
     "name": "stdout",
     "output_type": "stream",
     "text": [
      "I have finished. Best params is {'C': 14}. Best score is 0.8851029100461628. CV results is {'mean_fit_time': array([101.66486883, 101.31647984, 102.67569645, 111.41642006]), 'std_fit_time': array([2.00742793, 1.49671578, 0.99503831, 2.10547507]), 'mean_score_time': array([143.69837523, 142.53930306, 142.5631125 , 198.484833  ]), 'std_score_time': array([0.92019416, 1.41108557, 1.33918453, 2.43057248]), 'param_C': masked_array(data=[12, 14, 16, 18],\n",
      "             mask=[False, False, False, False],\n",
      "       fill_value='?',\n",
      "            dtype=object), 'params': [{'C': 12}, {'C': 14}, {'C': 16}, {'C': 18}], 'split0_test_score': array([0.87385321, 0.87400612, 0.87362385, 0.87400612]), 'split1_test_score': array([0.89525193, 0.89525193, 0.89509901, 0.89502256]), 'split2_test_score': array([0.88597701, 0.88605364, 0.88559387, 0.88582375]), 'mean_test_score': array([0.8850264 , 0.88510291, 0.88477135, 0.88494988]), 'std_test_score': array([0.00876503, 0.00870278, 0.00878971, 0.00860532]), 'rank_test_score': array([2, 1, 4, 3], dtype=int32)}\n",
      "CPU times: user 2min 9s, sys: 220 ms, total: 2min 9s\n",
      "Wall time: 19min 40s\n"
     ]
    }
   ],
   "source": [
    "%%time\n",
    "parameters = {'C':[12, 14, 16, 18]}\n",
    "svc = svm.SVC(gamma='scale', kernel='rbf')\n",
    "group_kfold = GroupKFold(n_splits=3)\n",
    "clf = GridSearchCV(\n",
    "    svc,\n",
    "    parameters,\n",
    "    cv=group_kfold,\n",
    "    n_jobs=3\n",
    ")\n",
    "clf.fit(\n",
    "    X=features,\n",
    "    y=labels,\n",
    "    groups=groups\n",
    ")\n",
    "notify(f'I have finished. Best params is {clf.best_params_}. Best score is {clf.best_score_}. CV results is {clf.cv_results_}')"
   ]
  },
  {
   "cell_type": "code",
   "execution_count": 25,
   "metadata": {},
   "outputs": [
    {
     "data": {
      "text/plain": [
       "{'mean_fit_time': array([119.18861985, 117.54446514, 113.83335567, 113.62335499]),\n",
       " 'std_fit_time': array([2.39207686, 0.16834283, 1.36316436, 0.72590079]),\n",
       " 'mean_score_time': array([161.97537041, 157.79711445, 156.68563199, 153.22638822]),\n",
       " 'std_score_time': array([2.8898718 , 1.36166758, 1.28903877, 1.04988127]),\n",
       " 'param_C': masked_array(data=[0.8, 1.0, 1.2, 1.4],\n",
       "              mask=[False, False, False, False],\n",
       "        fill_value='?',\n",
       "             dtype=object),\n",
       " 'params': [{'C': 0.8}, {'C': 1.0}, {'C': 1.2}, {'C': 1.4}],\n",
       " 'split0_test_score': array([0.85879205, 0.86062691, 0.86284404, 0.86437309]),\n",
       " 'split1_test_score': array([0.88309504, 0.8868415 , 0.88798838, 0.88928817]),\n",
       " 'split2_test_score': array([0.87386973, 0.87586207, 0.87808429, 0.87954023]),\n",
       " 'mean_test_score': array([0.87191716, 0.87444209, 0.87630391, 0.87773215]),\n",
       " 'std_test_score': array([0.01002074, 0.01075296, 0.0103457 , 0.01025519]),\n",
       " 'rank_test_score': array([4, 3, 2, 1], dtype=int32)}"
      ]
     },
     "execution_count": 25,
     "metadata": {},
     "output_type": "execute_result"
    }
   ],
   "source": [
    "clf.cv_results_"
   ]
  },
  {
   "cell_type": "code",
   "execution_count": null,
   "metadata": {},
   "outputs": [],
   "source": []
  }
 ],
 "metadata": {
  "kernelspec": {
   "display_name": "Python 3",
   "language": "python",
   "name": "python3"
  },
  "language_info": {
   "codemirror_mode": {
    "name": "ipython",
    "version": 3
   },
   "file_extension": ".py",
   "mimetype": "text/x-python",
   "name": "python",
   "nbconvert_exporter": "python",
   "pygments_lexer": "ipython3",
   "version": "3.7.3"
  }
 },
 "nbformat": 4,
 "nbformat_minor": 4
}
