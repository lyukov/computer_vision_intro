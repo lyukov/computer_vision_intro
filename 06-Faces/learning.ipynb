{
 "cells": [
  {
   "cell_type": "code",
   "execution_count": 3,
   "metadata": {},
   "outputs": [
    {
     "name": "stderr",
     "output_type": "stream",
     "text": [
      "Using TensorFlow backend.\n"
     ]
    }
   ],
   "source": [
    "from keras.callbacks import CSVLogger\n",
    "from keras.layers import Convolution2D, MaxPooling2D\n",
    "from keras.layers import Dense, Activation, Flatten, Dropout\n",
    "from keras.models import Sequential\n",
    "from keras.optimizers import Adam\n",
    "from skimage.color import rgb2gray\n",
    "from skimage.io import imread, imsave, imshow\n",
    "import keras\n",
    "import math\n",
    "import matplotlib.pyplot as plt\n",
    "import numpy as np\n",
    "import os\n",
    "import pandas as pd\n",
    "\n",
    "np.random.seed(42)"
   ]
  },
  {
   "cell_type": "code",
   "execution_count": 4,
   "metadata": {},
   "outputs": [
    {
     "name": "stdout",
     "output_type": "stream",
     "text": [
      "Output shape: (None, 28)\n",
      "Parameters: 3583964\n"
     ]
    }
   ],
   "source": [
    "model = Sequential([\n",
    "    Convolution2D(\n",
    "        64, (3, 3),\n",
    "        activation='relu',\n",
    "        input_shape=(128, 128, 3),\n",
    "        kernel_initializer='normal'),\n",
    "    MaxPooling2D(\n",
    "        pool_size=(2,2),\n",
    "        strides=(2,2)),\n",
    "    Convolution2D(\n",
    "        128, (3, 3),\n",
    "        activation='relu',\n",
    "        kernel_initializer='normal'),\n",
    "    MaxPooling2D(\n",
    "        pool_size=(2,2),\n",
    "        strides=(2,2)),\n",
    "    Convolution2D(\n",
    "        256, (3, 3),\n",
    "        activation='relu',\n",
    "        kernel_initializer='normal'),\n",
    "    MaxPooling2D(\n",
    "        pool_size=(2,2),\n",
    "        strides=(2,2)),\n",
    "    Flatten(),\n",
    "    Dense(64, activation='relu'),\n",
    "    Dense(28)\n",
    "])\n",
    "\n",
    "print('Output shape:', model.output_shape)\n",
    "print('Parameters:', model.count_params())\n",
    "\n",
    "adam = Adam(lr=0.0003)\n",
    "model.compile(loss='mean_squared_error',\n",
    "              optimizer=adam,\n",
    "              metrics=['mean_absolute_error'])"
   ]
  },
  {
   "cell_type": "code",
   "execution_count": 5,
   "metadata": {},
   "outputs": [],
   "source": [
    "data = np.fromfile('data128.npy').reshape((6000, 128, 128, 3))"
   ]
  },
  {
   "cell_type": "code",
   "execution_count": 7,
   "metadata": {},
   "outputs": [
    {
     "data": {
      "text/plain": [
       "array([[-0.19097298, -0.09065767, -0.19270575, -0.15989444,  0.11508438,\n",
       "        -0.12997872,  0.22034946, -0.0149919 , -0.08320612,  0.1290574 ,\n",
       "        -0.17539507, -0.1812473 , -0.00263142, -0.07324062, -0.01077327,\n",
       "        -0.14604406, -0.37450093, -0.29743937,  0.12763894,  0.26182374,\n",
       "        -0.32155663,  0.2170769 , -0.05032366,  0.00661847,  0.11378635,\n",
       "        -0.09678102,  0.12050357,  0.3760775 ]], dtype=float32)"
      ]
     },
     "execution_count": 7,
     "metadata": {},
     "output_type": "execute_result"
    }
   ],
   "source": [
    "model.predict(data[0:1])"
   ]
  },
  {
   "cell_type": "code",
   "execution_count": 48,
   "metadata": {},
   "outputs": [],
   "source": [
    "labels = pd.read_csv('labels.csv').set_index('filename')"
   ]
  },
  {
   "cell_type": "code",
   "execution_count": 55,
   "metadata": {},
   "outputs": [],
   "source": [
    "y = labels.values"
   ]
  },
  {
   "cell_type": "code",
   "execution_count": 57,
   "metadata": {},
   "outputs": [
    {
     "name": "stdout",
     "output_type": "stream",
     "text": [
      "Train on 4800 samples, validate on 1200 samples\n",
      "Epoch 1/1\n",
      "4800/4800 [==============================] - 610s 127ms/step - loss: 0.0702 - mean_absolute_error: 0.1949 - val_loss: 0.0183 - val_mean_absolute_error: 0.0964\n"
     ]
    },
    {
     "data": {
      "text/plain": [
       "<keras.callbacks.callbacks.History at 0x7f0814755160>"
      ]
     },
     "execution_count": 57,
     "metadata": {},
     "output_type": "execute_result"
    }
   ],
   "source": [
    "model.fit(data, y, validation_split=0.2)"
   ]
  },
  {
   "cell_type": "code",
   "execution_count": null,
   "metadata": {},
   "outputs": [],
   "source": []
  }
 ],
 "metadata": {
  "kernelspec": {
   "display_name": "Python 3",
   "language": "python",
   "name": "python3"
  },
  "language_info": {
   "codemirror_mode": {
    "name": "ipython",
    "version": 3
   },
   "file_extension": ".py",
   "mimetype": "text/x-python",
   "name": "python",
   "nbconvert_exporter": "python",
   "pygments_lexer": "ipython3",
   "version": "3.7.3"
  }
 },
 "nbformat": 4,
 "nbformat_minor": 2
}
