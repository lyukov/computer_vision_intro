{
 "cells": [
  {
   "cell_type": "code",
   "execution_count": 3,
   "metadata": {},
   "outputs": [],
   "source": [
    "from skimage.io import imread, imshow\n",
    "import numpy as np\n",
    "import pandas as pd\n",
    "%matplotlib inline\n",
    "import os\n",
    "from skimage.transform import resize\n",
    "from skimage import img_as_float"
   ]
  },
  {
   "cell_type": "code",
   "execution_count": 2,
   "metadata": {},
   "outputs": [],
   "source": [
    "train_dir = 'public_tests/00_test_img_input/train/images/'"
   ]
  },
  {
   "cell_type": "code",
   "execution_count": 7,
   "metadata": {},
   "outputs": [],
   "source": [
    "tg_size = 128\n",
    "n_chnl = 3\n",
    "\n",
    "def normalize(img):\n",
    "    img -= img.mean()\n",
    "    img /= np.sqrt((img**2).mean())\n",
    "\n",
    "def prepare_img(image):\n",
    "    img = resize(image, (tg_size, tg_size))\n",
    "    if len(img.shape) == 2:\n",
    "        normalize(img)\n",
    "        return np.array([img, img, img]).transpose((1,2,0))\n",
    "    else:\n",
    "        for i in range(img.shape[2]):\n",
    "            normalize(img[:,:,i])\n",
    "        return img\n",
    "\n",
    "def get_data(directory, tg_size, n_chnl):\n",
    "    filenames = sorted(os.listdir(directory))\n",
    "    result = np.zeros((len(filenames), tg_size, tg_size, n_chnl))\n",
    "    shapes = np.zeros((len(filenames), 2))\n",
    "    for i, filename in enumerate(filenames):\n",
    "        file_path = os.path.join(directory, filename)\n",
    "        img = img_as_float(imread(file_path))\n",
    "        prepared = prepare_img(img)\n",
    "        result[i] = prepared\n",
    "        shapes[i] = img.shape[:2]\n",
    "    return result"
   ]
  },
  {
   "cell_type": "code",
   "execution_count": 32,
   "metadata": {},
   "outputs": [
    {
     "data": {
      "text/plain": [
       "(6000, 128, 128, 3)"
      ]
     },
     "execution_count": 32,
     "metadata": {},
     "output_type": "execute_result"
    }
   ],
   "source": [
    "result.tofile('data128.npy')\n",
    "\n",
    "result.shape"
   ]
  },
  {
   "cell_type": "code",
   "execution_count": 34,
   "metadata": {},
   "outputs": [],
   "source": [
    "shapes = pd.read_csv('public_tests/00_test_img_gt/img_shapes.csv').set_index('img_filename')\n",
    "\n",
    "gt = pd.read_csv('public_tests/00_test_img_input/train/gt.csv').set_index('filename')\n",
    "\n",
    "labels = gt.join(shapes)\n",
    "\n",
    "x_labels = (labels[['x'+str(i) for i in range(1, 15)]].transpose() / labels.n_cols).transpose()\n",
    "y_labels = (labels[['y'+str(i) for i in range(1, 15)]].transpose() / labels.n_rows).transpose()\n",
    "labels = x_labels.join(y_labels)\n",
    "\n",
    "labels = labels[[ax+str(i) for i in range(1, 15) for ax in ['x', 'y']]]\n",
    "\n",
    "labels.to_csv('labels.csv')"
   ]
  },
  {
   "cell_type": "code",
   "execution_count": 4,
   "metadata": {},
   "outputs": [],
   "source": [
    "def read_csv(filename):\n",
    "    res = {}\n",
    "    with open(filename) as fhandle:\n",
    "        next(fhandle)\n",
    "        for line in fhandle:\n",
    "            parts = line.rstrip('\\n').split(',')\n",
    "            coords = np.array([float(x) for x in parts[1:]], dtype='float64')\n",
    "            res[parts[0]] = coords\n",
    "    return res"
   ]
  },
  {
   "cell_type": "code",
   "execution_count": 5,
   "metadata": {},
   "outputs": [],
   "source": [
    "a = read_csv('public_tests/00_test_img_gt/gt.csv')"
   ]
  },
  {
   "cell_type": "code",
   "execution_count": 9,
   "metadata": {},
   "outputs": [
    {
     "data": {
      "text/plain": [
       "array([[ 51.,  51., 127., ..., 180., 168., 179.],\n",
       "       [ 21.,  20.,  36., ...,  66.,  60.,  65.],\n",
       "       [ 23., 116.,  39., ..., 100., 121.,  81.],\n",
       "       ...,\n",
       "       [ 21.,  33.,  41., ..., 114.,  94., 111.],\n",
       "       [  8.,  13.,  17., ...,  35.,  34.,  34.],\n",
       "       [  9.,   8.,  17., ...,  33.,  32.,  32.]])"
      ]
     },
     "execution_count": 9,
     "metadata": {},
     "output_type": "execute_result"
    }
   ],
   "source": [
    "pd.DataFrame(a).transpose().values"
   ]
  },
  {
   "cell_type": "code",
   "execution_count": null,
   "metadata": {},
   "outputs": [],
   "source": []
  }
 ],
 "metadata": {
  "kernelspec": {
   "display_name": "Python 3",
   "language": "python",
   "name": "python3"
  },
  "language_info": {
   "codemirror_mode": {
    "name": "ipython",
    "version": 3
   },
   "file_extension": ".py",
   "mimetype": "text/x-python",
   "name": "python",
   "nbconvert_exporter": "python",
   "pygments_lexer": "ipython3",
   "version": "3.7.3"
  }
 },
 "nbformat": 4,
 "nbformat_minor": 2
}
